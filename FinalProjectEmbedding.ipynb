{
 "cells": [
  {
   "cell_type": "markdown",
   "metadata": {},
   "source": [
    "## Import modules"
   ]
  },
  {
   "cell_type": "code",
   "execution_count": 7,
   "metadata": {},
   "outputs": [],
   "source": [
    "import tensorflow as tf # pip install tensorflow\n",
    "from tensorflow import keras # pip install keras\n",
    "from tensorflow.keras.preprocessing.text import Tokenizer\n",
    "import pandas as pd # pip install pandas\n",
    "from gensim.parsing.preprocessing import remove_stopwords # pip install gensim\n",
    "from tensorflow.keras.preprocessing.sequence import pad_sequences\n",
    "import numpy as np # pip install numpy\n",
    "import string\n",
    "from matplotlib import pyplot as plt\n",
    "import keras_tuner as kt"
   ]
  },
  {
   "cell_type": "markdown",
   "metadata": {},
   "source": [
    "## Preprocessing"
   ]
  },
  {
   "cell_type": "markdown",
   "metadata": {},
   "source": [
    "### Load the data"
   ]
  },
  {
   "cell_type": "code",
   "execution_count": 8,
   "metadata": {},
   "outputs": [
    {
     "data": {
      "text/html": [
       "<div>\n",
       "<style scoped>\n",
       "    .dataframe tbody tr th:only-of-type {\n",
       "        vertical-align: middle;\n",
       "    }\n",
       "\n",
       "    .dataframe tbody tr th {\n",
       "        vertical-align: top;\n",
       "    }\n",
       "\n",
       "    .dataframe thead th {\n",
       "        text-align: right;\n",
       "    }\n",
       "</style>\n",
       "<table border=\"1\" class=\"dataframe\">\n",
       "  <thead>\n",
       "    <tr style=\"text-align: right;\">\n",
       "      <th></th>\n",
       "      <th>review_id</th>\n",
       "      <th>text</th>\n",
       "      <th>category</th>\n",
       "      <th>votes</th>\n",
       "      <th>order</th>\n",
       "    </tr>\n",
       "  </thead>\n",
       "  <tbody>\n",
       "    <tr>\n",
       "      <th>0</th>\n",
       "      <td>___ISHNflgWKgFvLYzB8Wg</td>\n",
       "      <td>The difference between \"Red Light Clothing Exc...</td>\n",
       "      <td>funny</td>\n",
       "      <td>7</td>\n",
       "      <td>3</td>\n",
       "    </tr>\n",
       "    <tr>\n",
       "      <th>1</th>\n",
       "      <td>___l42spIcSIp4tNhsDgcQ</td>\n",
       "      <td>Tonsof add on fees. Charged me a fuel fee yet ...</td>\n",
       "      <td>useful</td>\n",
       "      <td>7</td>\n",
       "      <td>3</td>\n",
       "    </tr>\n",
       "    <tr>\n",
       "      <th>2</th>\n",
       "      <td>___m_sGjAWhFSCAu4n1Bww</td>\n",
       "      <td>Hormone-free beef. Home fries w/ mozarella, gr...</td>\n",
       "      <td>cool</td>\n",
       "      <td>1</td>\n",
       "      <td>3</td>\n",
       "    </tr>\n",
       "    <tr>\n",
       "      <th>3</th>\n",
       "      <td>___Orut5PmmMD5iILAIAFg</td>\n",
       "      <td>If I were reviewing the non-MD staff here, thi...</td>\n",
       "      <td>useful</td>\n",
       "      <td>15</td>\n",
       "      <td>3</td>\n",
       "    </tr>\n",
       "    <tr>\n",
       "      <th>4</th>\n",
       "      <td>___q_rPBSKsPkKH2kvWLEg</td>\n",
       "      <td>For a department store, Dillards is better tha...</td>\n",
       "      <td>useful</td>\n",
       "      <td>1</td>\n",
       "      <td>3</td>\n",
       "    </tr>\n",
       "  </tbody>\n",
       "</table>\n",
       "</div>"
      ],
      "text/plain": [
       "                review_id                                               text  \\\n",
       "0  ___ISHNflgWKgFvLYzB8Wg  The difference between \"Red Light Clothing Exc...   \n",
       "1  ___l42spIcSIp4tNhsDgcQ  Tonsof add on fees. Charged me a fuel fee yet ...   \n",
       "2  ___m_sGjAWhFSCAu4n1Bww  Hormone-free beef. Home fries w/ mozarella, gr...   \n",
       "3  ___Orut5PmmMD5iILAIAFg  If I were reviewing the non-MD staff here, thi...   \n",
       "4  ___q_rPBSKsPkKH2kvWLEg  For a department store, Dillards is better tha...   \n",
       "\n",
       "  category  votes  order  \n",
       "0    funny      7      3  \n",
       "1   useful      7      3  \n",
       "2     cool      1      3  \n",
       "3   useful     15      3  \n",
       "4   useful      1      3  "
      ]
     },
     "execution_count": 8,
     "metadata": {},
     "output_type": "execute_result"
    }
   ],
   "source": [
    "# Load the whole dataset\n",
    "# Expected execution time: 10s\n",
    "yelpDataset = pd.read_csv('yelp_dataset_dataset.csv')\n",
    "yelpDataset.head(5)"
   ]
  },
  {
   "cell_type": "code",
   "execution_count": 9,
   "metadata": {},
   "outputs": [
    {
     "data": {
      "text/html": [
       "<div>\n",
       "<style scoped>\n",
       "    .dataframe tbody tr th:only-of-type {\n",
       "        vertical-align: middle;\n",
       "    }\n",
       "\n",
       "    .dataframe tbody tr th {\n",
       "        vertical-align: top;\n",
       "    }\n",
       "\n",
       "    .dataframe thead th {\n",
       "        text-align: right;\n",
       "    }\n",
       "</style>\n",
       "<table border=\"1\" class=\"dataframe\">\n",
       "  <thead>\n",
       "    <tr style=\"text-align: right;\">\n",
       "      <th></th>\n",
       "      <th>text</th>\n",
       "      <th>category</th>\n",
       "    </tr>\n",
       "  </thead>\n",
       "  <tbody>\n",
       "    <tr>\n",
       "      <th>0</th>\n",
       "      <td>The difference between \"Red Light Clothing Exc...</td>\n",
       "      <td>funny</td>\n",
       "    </tr>\n",
       "    <tr>\n",
       "      <th>1</th>\n",
       "      <td>Tonsof add on fees. Charged me a fuel fee yet ...</td>\n",
       "      <td>useful</td>\n",
       "    </tr>\n",
       "    <tr>\n",
       "      <th>2</th>\n",
       "      <td>Hormone-free beef. Home fries w/ mozarella, gr...</td>\n",
       "      <td>cool</td>\n",
       "    </tr>\n",
       "    <tr>\n",
       "      <th>3</th>\n",
       "      <td>If I were reviewing the non-MD staff here, thi...</td>\n",
       "      <td>useful</td>\n",
       "    </tr>\n",
       "    <tr>\n",
       "      <th>4</th>\n",
       "      <td>For a department store, Dillards is better tha...</td>\n",
       "      <td>useful</td>\n",
       "    </tr>\n",
       "  </tbody>\n",
       "</table>\n",
       "</div>"
      ],
      "text/plain": [
       "                                                text category\n",
       "0  The difference between \"Red Light Clothing Exc...    funny\n",
       "1  Tonsof add on fees. Charged me a fuel fee yet ...   useful\n",
       "2  Hormone-free beef. Home fries w/ mozarella, gr...     cool\n",
       "3  If I were reviewing the non-MD staff here, thi...   useful\n",
       "4  For a department store, Dillards is better tha...   useful"
      ]
     },
     "execution_count": 9,
     "metadata": {},
     "output_type": "execute_result"
    }
   ],
   "source": [
    "# Selecting the important columns for this project\n",
    "reviews = yelpDataset[['text', 'category']]\n",
    "reviews.head(5)"
   ]
  },
  {
   "cell_type": "markdown",
   "metadata": {},
   "source": [
    "### Remove stop words"
   ]
  },
  {
   "cell_type": "code",
   "execution_count": 10,
   "metadata": {},
   "outputs": [
    {
     "data": {
      "text/html": [
       "<div>\n",
       "<style scoped>\n",
       "    .dataframe tbody tr th:only-of-type {\n",
       "        vertical-align: middle;\n",
       "    }\n",
       "\n",
       "    .dataframe tbody tr th {\n",
       "        vertical-align: top;\n",
       "    }\n",
       "\n",
       "    .dataframe thead th {\n",
       "        text-align: right;\n",
       "    }\n",
       "</style>\n",
       "<table border=\"1\" class=\"dataframe\">\n",
       "  <thead>\n",
       "    <tr style=\"text-align: right;\">\n",
       "      <th></th>\n",
       "      <th>text</th>\n",
       "      <th>category</th>\n",
       "    </tr>\n",
       "  </thead>\n",
       "  <tbody>\n",
       "    <tr>\n",
       "      <th>0</th>\n",
       "      <td>difference red light clothing exchange goodwil...</td>\n",
       "      <td>funny</td>\n",
       "    </tr>\n",
       "    <tr>\n",
       "      <th>1</th>\n",
       "      <td>tonsof add fees charged fuel fee returned vehi...</td>\n",
       "      <td>useful</td>\n",
       "    </tr>\n",
       "    <tr>\n",
       "      <th>2</th>\n",
       "      <td>hormonefree beef home fries w mozarella green ...</td>\n",
       "      <td>cool</td>\n",
       "    </tr>\n",
       "    <tr>\n",
       "      <th>3</th>\n",
       "      <td>reviewing nonmd staff easily stars checkin er ...</td>\n",
       "      <td>useful</td>\n",
       "    </tr>\n",
       "    <tr>\n",
       "      <th>4</th>\n",
       "      <td>department store dillards better great selecti...</td>\n",
       "      <td>useful</td>\n",
       "    </tr>\n",
       "  </tbody>\n",
       "</table>\n",
       "</div>"
      ],
      "text/plain": [
       "                                                text category\n",
       "0  difference red light clothing exchange goodwil...    funny\n",
       "1  tonsof add fees charged fuel fee returned vehi...   useful\n",
       "2  hormonefree beef home fries w mozarella green ...     cool\n",
       "3  reviewing nonmd staff easily stars checkin er ...   useful\n",
       "4  department store dillards better great selecti...   useful"
      ]
     },
     "execution_count": 10,
     "metadata": {},
     "output_type": "execute_result"
    }
   ],
   "source": [
    "# removing stop words and converting review to lowercase\n",
    "# Expected execution time: 34m\n",
    "IsBigram = False\n",
    "currentIndex = 0\n",
    "for text, category in reviews.iterrows():\n",
    "    reviewToLowercase = str(reviews.at[currentIndex,'text']).lower() # converting to lowercase\n",
    "    reviewWOPunctuation = reviewToLowercase.translate(str.maketrans('', '', string.punctuation)) # remove puncttiation\n",
    "    reviewWOstopword = remove_stopwords(reviewWOPunctuation) # removing the stop words\n",
    "    if IsBigram is True:\n",
    "        reviewBigram = tf.strings.ngrams(\n",
    "            reviewWOstopword.split(' '),\n",
    "            2,\n",
    "            separator='',\n",
    "            pad_values=None,\n",
    "            padding_width=None,\n",
    "            preserve_short_sequences=False,\n",
    "            name=None\n",
    "        )\n",
    "        reviewBigramUnified = ' '.join(e.decode(encoding=\"utf-8\") for e in list(reviewBigram.numpy()))\n",
    "        reviews.at[currentIndex,'text'] = reviewBigramUnified\n",
    "    else:\n",
    "        reviews.at[currentIndex,'text'] = reviewWOstopword\n",
    "\n",
    "\n",
    "    currentIndex += 1\n",
    "reviews.head(5)"
   ]
  },
  {
   "cell_type": "code",
   "execution_count": 11,
   "metadata": {},
   "outputs": [],
   "source": [
    "# splitting the dataset into test and train\n",
    "train_size = 0.6\n",
    "train_end = int(len(reviews)*train_size)\n",
    "\n",
    "reviewsTraining = reviews[:train_end]\n",
    "reviewsTesting = reviews[train_end:]"
   ]
  },
  {
   "cell_type": "markdown",
   "metadata": {},
   "source": [
    "### Indexing words (Tokenization)"
   ]
  },
  {
   "cell_type": "code",
   "execution_count": 12,
   "metadata": {},
   "outputs": [
    {
     "name": "stdout",
     "output_type": "stream",
     "text": [
      "number of words found: 418676\n",
      "<UNK>: 1\n",
      "place: 2\n",
      "good: 3\n",
      "food: 4\n",
      "like: 5\n",
      "great: 6\n",
      "time: 7\n",
      "service: 8\n",
      "dont: 9\n",
      "got: 10\n"
     ]
    }
   ],
   "source": [
    "# Transforming the words into ids to speed up computation\n",
    "# Expected execution time: 3m\n",
    "tokenizer = Tokenizer(\n",
    "    num_words = None, # I could set a limit to select the top x most frequent words\n",
    "    oov_token = \"<UNK>\" # to replace out-of-vocabulary words during text_to_sequence calls\n",
    ")\n",
    "\n",
    "tokenizer.fit_on_texts(list(reviewsTraining['text'])) #introducing words from the training dataset to TF\n",
    "word_index = tokenizer.word_index # dictionary with words and indexes\n",
    "print(f\"number of words found: {len(word_index)}\") # number of words identified\n",
    "\n",
    "# print some index examples \n",
    "count = 0\n",
    "for word, index in word_index.items():\n",
    "    print(f\"{word}: {index}\")\n",
    "    count += 1\n",
    "    if count == 10:\n",
    "        break"
   ]
  },
  {
   "cell_type": "code",
   "execution_count": 13,
   "metadata": {},
   "outputs": [
    {
     "name": "stdout",
     "output_type": "stream",
     "text": [
      "TurnIntoSequence: reviewsTraining\n",
      "TurnIntoSequence: reviewsTesting\n"
     ]
    }
   ],
   "source": [
    "# transforming each review into sequences of tokens/index in the training and testing dataset\n",
    "# Expected execution time: 6m\n",
    "\n",
    "def TurnIntoSequence(dataframe: pd.core.frame.DataFrame, startAtIndex: int):\n",
    "    currentIndex = startAtIndex\n",
    "    for text, category in dataframe.iterrows():\n",
    "        reviewToSequence = [dataframe.at[currentIndex,'text']] # Transform each review into a list\n",
    "        dataframe.at[currentIndex,'text'] = tokenizer.texts_to_sequences(reviewToSequence)[0] # tokenize and [0] is necessary to select the first item returned\n",
    "        currentIndex += 1\n",
    "    return dataframe\n",
    "\n",
    "print(\"TurnIntoSequence: reviewsTraining\")\n",
    "reviewsTraining = TurnIntoSequence(reviewsTraining, 0)\n",
    "print(\"TurnIntoSequence: reviewsTesting\")\n",
    "reviewsTesting = TurnIntoSequence(reviewsTesting, train_end)"
   ]
  },
  {
   "cell_type": "code",
   "execution_count": 14,
   "metadata": {},
   "outputs": [
    {
     "name": "stdout",
     "output_type": "stream",
     "text": [
      "Size of the longest string: 560 characters\n",
      "Avg size: 60 characters\n"
     ]
    }
   ],
   "source": [
    "# Ensuring that every review/sequence has the same size\n",
    "# Expected execution time: 2m\n",
    "LongestReviewSize = 0\n",
    "currentIndex = 0\n",
    "sumSize = 0\n",
    "for text, category in reviewsTraining.iterrows():\n",
    "    reviewSize = len(reviewsTraining.at[currentIndex,'text'])\n",
    "    sumSize += reviewSize\n",
    "    if reviewSize > LongestReviewSize:\n",
    "        LongestReviewSize = reviewSize\n",
    "    currentIndex += 1\n",
    "\n",
    "avgSize = int(sumSize/currentIndex)\n",
    "\n",
    "print(f\"Size of the longest string: {LongestReviewSize} characters\") #longest review\n",
    "print(f\"Avg size: {avgSize} characters\") #longest review"
   ]
  },
  {
   "cell_type": "code",
   "execution_count": 15,
   "metadata": {},
   "outputs": [
    {
     "name": "stdout",
     "output_type": "stream",
     "text": [
      "paddingReviews: reviewsTraining\n",
      "paddingReviews: reviewsTesting\n",
      "Example of final result:\n",
      "[0, 1179, 335, 381, 1877, 2369, 5299, 1888, 67, 5245, 11, 1716, 6346, 4547, 1877, 161, 821, 1688, 4625, 4625, 14853, 13775, 2285, 295, 127, 2285, 123, 295, 98, 12, 5741, 2791, 5031, 4772, 1307, 2285, 1130, 368, 15, 1589, 7274, 90, 309, 385, 279, 1524, 7275, 12161, 179, 52, 73, 230, 39, 5741, 2380, 105, 1019, 551, 335, 381]\n"
     ]
    }
   ],
   "source": [
    "# updating the dataframe with strings of same size (process called padding)\n",
    "# Expected execution time: 4m\n",
    "\n",
    "def paddingReviews(dataframe: pd.core.frame.DataFrame, startAtIndex: int):\n",
    "    currentIndex = startAtIndex\n",
    "    for text, category in dataframe.iterrows():\n",
    "        reviewPadded = pad_sequences([dataframe.at[currentIndex,'text']], maxlen = avgSize) # create a parsed list\n",
    "        dataframe.at[currentIndex,'text'] = reviewPadded.tolist()[0] # insert the list into the dataframe\n",
    "        currentIndex += 1\n",
    "    return dataframe\n",
    "\n",
    "print(\"paddingReviews: reviewsTraining\")\n",
    "reviewsTraining = paddingReviews(reviewsTraining, 0)\n",
    "print(\"paddingReviews: reviewsTesting\")\n",
    "reviewsTesting = paddingReviews(reviewsTesting, train_end)\n",
    "\n",
    "print('Example of final result:')\n",
    "print(reviewsTraining.at[0,'text'])"
   ]
  },
  {
   "cell_type": "code",
   "execution_count": 16,
   "metadata": {},
   "outputs": [
    {
     "data": {
      "text/html": [
       "<div>\n",
       "<style scoped>\n",
       "    .dataframe tbody tr th:only-of-type {\n",
       "        vertical-align: middle;\n",
       "    }\n",
       "\n",
       "    .dataframe tbody tr th {\n",
       "        vertical-align: top;\n",
       "    }\n",
       "\n",
       "    .dataframe thead th {\n",
       "        text-align: right;\n",
       "    }\n",
       "</style>\n",
       "<table border=\"1\" class=\"dataframe\">\n",
       "  <thead>\n",
       "    <tr style=\"text-align: right;\">\n",
       "      <th></th>\n",
       "      <th>text</th>\n",
       "      <th>category</th>\n",
       "    </tr>\n",
       "  </thead>\n",
       "  <tbody>\n",
       "    <tr>\n",
       "      <th>0</th>\n",
       "      <td>[0, 1179, 335, 381, 1877, 2369, 5299, 1888, 67...</td>\n",
       "      <td>[1, 0, 0]</td>\n",
       "    </tr>\n",
       "    <tr>\n",
       "      <th>1</th>\n",
       "      <td>[0, 0, 0, 0, 0, 0, 0, 0, 0, 0, 0, 0, 0, 0, 0, ...</td>\n",
       "      <td>[0, 1, 0]</td>\n",
       "    </tr>\n",
       "    <tr>\n",
       "      <th>2</th>\n",
       "      <td>[0, 0, 0, 0, 0, 0, 0, 0, 0, 0, 0, 0, 0, 0, 0, ...</td>\n",
       "      <td>[0, 0, 1]</td>\n",
       "    </tr>\n",
       "    <tr>\n",
       "      <th>3</th>\n",
       "      <td>[2395, 1665, 15379, 31645, 652, 536, 9953, 294...</td>\n",
       "      <td>[0, 1, 0]</td>\n",
       "    </tr>\n",
       "    <tr>\n",
       "      <th>4</th>\n",
       "      <td>[0, 0, 0, 0, 0, 0, 0, 0, 0, 0, 0, 0, 0, 0, 0, ...</td>\n",
       "      <td>[0, 1, 0]</td>\n",
       "    </tr>\n",
       "  </tbody>\n",
       "</table>\n",
       "</div>"
      ],
      "text/plain": [
       "                                                text   category\n",
       "0  [0, 1179, 335, 381, 1877, 2369, 5299, 1888, 67...  [1, 0, 0]\n",
       "1  [0, 0, 0, 0, 0, 0, 0, 0, 0, 0, 0, 0, 0, 0, 0, ...  [0, 1, 0]\n",
       "2  [0, 0, 0, 0, 0, 0, 0, 0, 0, 0, 0, 0, 0, 0, 0, ...  [0, 0, 1]\n",
       "3  [2395, 1665, 15379, 31645, 652, 536, 9953, 294...  [0, 1, 0]\n",
       "4  [0, 0, 0, 0, 0, 0, 0, 0, 0, 0, 0, 0, 0, 0, 0, ...  [0, 1, 0]"
      ]
     },
     "execution_count": 16,
     "metadata": {},
     "output_type": "execute_result"
    }
   ],
   "source": [
    "# updating the categories to One-Hot\n",
    "# Expected execution time: 5m\n",
    "uniqueCategories = reviewsTraining['category'].unique().tolist()\n",
    "categoriesDict = {}\n",
    "count = 0\n",
    "for item in uniqueCategories:\n",
    "    categoriesDict[item] = count\n",
    "    count += 1\n",
    "\n",
    "def categoriesToOneHot(dataframe: pd.core.frame.DataFrame, startAtIndex: int, categoriesDictionary: dict):\n",
    "    currentIndex = startAtIndex\n",
    "    for text, category in dataframe.iterrows():\n",
    "        categoryString = dataframe.at[currentIndex,'category']\n",
    "        categoryIndex = categoriesDictionary[categoryString]\n",
    "        categoryOneHotCode = tf.one_hot(categoryIndex, len(categoriesDictionary), on_value=1)\n",
    "        categoryOneHotCodeLst = categoryOneHotCode.numpy().tolist()\n",
    "        dataframe.at[currentIndex,'category'] = categoryOneHotCodeLst\n",
    "        currentIndex += 1\n",
    "    return dataframe\n",
    "\n",
    "reviewsTraining = categoriesToOneHot(dataframe = reviewsTraining, startAtIndex = 0, categoriesDictionary = categoriesDict)\n",
    "reviewsTesting = categoriesToOneHot(dataframe = reviewsTesting, startAtIndex = train_end, categoriesDictionary = categoriesDict)\n",
    "reviewsTraining.head()"
   ]
  },
  {
   "cell_type": "markdown",
   "metadata": {},
   "source": [
    "## Model "
   ]
  },
  {
   "cell_type": "code",
   "execution_count": null,
   "metadata": {},
   "outputs": [],
   "source": [
    "# create the model\n",
    "# expected execution time: 1m\n",
    "numberOfCategories = len(categoriesDict)\n",
    "vocabularySize = len(word_index)\n",
    "\n",
    "model = tf.keras.Sequential(\n",
    "    [   \n",
    "        # avgSize => the lenght of each review padded: 60\n",
    "        # vocabularySize => the number of different words identified: 418676\n",
    "        # output_dim => the number of categories (dimensions): 3\n",
    "        tf.keras.layers.Embedding(input_dim = vocabularySize, output_dim = 3, input_length = avgSize),\n",
    "        tf.keras.layers.Dropout(0.5),\n",
    "        tf.keras.layers.GlobalAveragePooling1D(), \n",
    "        tf.keras.layers.Dropout(0.5),\n",
    "        tf.keras.layers.Dense(30, activation='relu', kernel_regularizer=tf.keras.regularizers.l2(l2=0.01)), \n",
    "        tf.keras.layers.Dropout(0.5), \n",
    "        tf.keras.layers.Dense(30, activation='relu', kernel_regularizer=tf.keras.regularizers.l2(l2=0.01)), \n",
    "        tf.keras.layers.Dropout(0.5), \n",
    "        tf.keras.layers.Dense(3, activation='softmax')\n",
    "        \n",
    "    ]\n",
    ")\n",
    "model.compile(\n",
    "    loss = 'categorical_crossentropy',\n",
    "    optimizer = 'Adam',\n",
    "    metrics = ['accuracy']\n",
    ")\n",
    "\n"
   ]
  },
  {
   "cell_type": "code",
   "execution_count": null,
   "metadata": {},
   "outputs": [],
   "source": [
    "print(\"getting training data\")\n",
    "reviewsTrainingSequences = reviewsTraining['text'].to_list()[:10000]\n",
    "reviewsTrainingCategories = reviewsTraining['category'].to_list()[:10000]\n",
    "print(\"getting testing data\")\n",
    "reviewsTestingSequences = reviewsTesting['text'].to_list()[:10000]\n",
    "reviewsTestingCategories = reviewsTesting['category'].to_list()[:10000]\n",
    "\n",
    "print(\"fitting the model\")\n",
    "num_epochs = 50 \n",
    "history = model.fit(\n",
    "    reviewsTrainingSequences, \n",
    "    reviewsTrainingCategories, \n",
    "    epochs = num_epochs, # number of trials\n",
    "    verbose = 1,  # 1 = progress bar\n",
    "    validation_data=(reviewsTestingSequences, reviewsTestingCategories),\n",
    "    workers=3,\n",
    "    use_multiprocessing=True\n",
    "    )"
   ]
  },
  {
   "cell_type": "markdown",
   "metadata": {},
   "source": [
    "#### Validation"
   ]
  },
  {
   "cell_type": "code",
   "execution_count": 36,
   "metadata": {},
   "outputs": [
    {
     "data": {
      "image/png": "[encoded data removed]",
      "text/plain": [
       "<Figure size 432x288 with 1 Axes>"
      ]
     },
     "metadata": {
      "needs_background": "light"
     },
     "output_type": "display_data"
    },
    {
     "data": {
      "image/png": "[encoded data removed]",
      "text/plain": [
       "<Figure size 432x288 with 1 Axes>"
      ]
     },
     "metadata": {
      "needs_background": "light"
     },
     "output_type": "display_data"
    }
   ],
   "source": [
    "acc = history.history['accuracy']\n",
    "val_acc = history.history['val_accuracy']\n",
    " \n",
    "loss = history.history['loss']\n",
    "val_loss = history.history['val_loss']\n",
    "\n",
    "plt.plot(loss, label = 'Training loss') #bo for blue dots\n",
    "plt.plot(val_loss, label = 'Validation loss') #b for blue line\n",
    "plt.title('Training and validation loss')\n",
    "plt.ylabel('Loss')\n",
    "plt.xlabel('Epoch')\n",
    "plt.legend()\n",
    "\n",
    "plt.show()\n",
    "\n",
    "plt.plot(acc, label = 'Training Accuracy') #bo for blue dots\n",
    "plt.plot(val_acc, label = 'Validation Accuracy') #b for blue line\n",
    "plt.title('Training and validation Accuracy')\n",
    "plt.ylabel('Accuracy')\n",
    "plt.xlabel('Epoch')\n",
    "plt.legend()\n",
    "\n",
    "plt.show()"
   ]
  }
 ],
 "metadata": {
  "interpreter": {
   "hash": "aee8b7b246df8f9039afb4144a1f6fd8d2ca17a180786b69acc140d282b71a49"
  },
  "kernelspec": {
   "display_name": "Python 3.9.5 64-bit",
   "language": "python",
   "name": "python3"
  },
  "language_info": {
   "codemirror_mode": {
    "name": "ipython",
    "version": 3
   },
   "file_extension": ".py",
   "mimetype": "text/x-python",
   "name": "python",
   "nbconvert_exporter": "python",
   "pygments_lexer": "ipython3",
   "version": "3.9.5"
  },
  "orig_nbformat": 4
 },
 "nbformat": 4,
 "nbformat_minor": 2
}
